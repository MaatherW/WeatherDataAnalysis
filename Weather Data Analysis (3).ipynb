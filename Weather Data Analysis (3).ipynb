{
  "nbformat": 4,
  "nbformat_minor": 5,
  "metadata": {
    "kernel_info": {
      "name": "python3"
    },
    "kernelspec": {
      "display_name": "Python 3.9",
      "language": "python",
      "name": "python3"
    },
    "selected_hardware_size": "small",
    "noteable": {
      "db_connection": "@noteable"
    }
  },
  "cells": [
    {
      "id": "996f737f79f34151aebadccca33d02fa",
      "cell_type": "markdown",
      "source": "# Weather Data Analysis \nThe project analysis daily weather temperature. This dataset contains the daily weather data recorded in the capital location (based on lat, long values) of 194 countries in the world.\n",
      "metadata": {
        "noteable": {
          "cell_type": "markdown"
        }
      }
    },
    {
      "id": "5b551201-4695-4269-b6b7-fdf0925647f2",
      "cell_type": "markdown",
      "source": "### Data Loading And Overview",
      "metadata": {
        "noteable": {
          "cell_type": "markdown"
        }
      }
    },
    {
      "id": "e6bddf23-8257-4440-aae0-ba6c72c4cc6c",
      "cell_type": "code",
      "metadata": {
        "noteable": {
          "cell_type": "python",
          "output_collection_id": "9585565f-03f7-411b-93b0-51fd6291e65c"
        },
        "ExecuteTime": {
          "end_time": "2023-09-23T17:29:01.844587+00:00",
          "start_time": "2023-09-23T17:28:59.889841+00:00"
        },
        "datalink": {
          "2be86fa6-d9d6-4e69-8da3-b75591eabb8e": {
            "applied_filters": [],
            "dataframe_info": {
              "default_index_used": true,
              "orig_num_cols": 11,
              "orig_num_rows": 5,
              "orig_size_bytes": 480,
              "truncated_num_cols": 11,
              "truncated_num_rows": 5,
              "truncated_size_bytes": 480,
              "truncated_string_columns": []
            },
            "display_id": "2be86fa6-d9d6-4e69-8da3-b75591eabb8e",
            "dx_settings": {
              "ALLOW_NOTEABLE_ATTRS": true,
              "COLUMN_SAMPLING_METHOD": "outer",
              "DB_LOCATION": ":memory:",
              "DEV_MODE": false,
              "DISPLAY_MAX_COLUMNS": 100,
              "DISPLAY_MAX_ROWS": 50000,
              "DISPLAY_MODE": "simple",
              "ENABLE_ASSIGNMENT": true,
              "ENABLE_DATALINK": true,
              "FLATTEN_COLUMN_VALUES": true,
              "FLATTEN_INDEX_VALUES": false,
              "GENERATE_DEX_METADATA": false,
              "HTML_TABLE_SCHEMA": false,
              "LOG_LEVEL": 30,
              "MAX_RENDER_SIZE_BYTES": 104857600,
              "MAX_STRING_LENGTH": 250,
              "NUM_PAST_SAMPLES_TRACKED": 3,
              "RANDOM_STATE": 12648430,
              "RESET_INDEX_VALUES": false,
              "ROW_SAMPLING_METHOD": "random",
              "SAMPLING_FACTOR": 0.1,
              "SAMPLING_METHOD": "random",
              "STRINGIFY_COLUMN_VALUES": true,
              "STRINGIFY_INDEX_VALUES": false
            },
            "sample_history": [],
            "sampling_time": "2023-09-23T17:29:01.681029",
            "user_variable_name": null,
            "variable_name": "unk_dataframe_b687ed4af0af4bb69e80c31b5947d9a8"
          }
        },
        "dx": {
          "fieldMetadata": {},
          "simpleTable": true,
          "updated": 1695490244046,
          "views": []
        }
      },
      "execution_count": null,
      "source": "import pandas as pd\nimport numpy as np \nimport seaborn as sns\nimport matplotlib.pyplot as plt\nfrom sklearn.cluster import KMeans\nimport warnings\nwarnings.filterwarnings('ignore')\n\n##Data loading and overview\nweather = pd.read_csv('daily_weather_data.csv')\n\n#view first 5 rows\nweather.head()",
      "outputs": []
    },
    {
      "id": "e2767609-9098-4470-a0bc-570e2e1b5aaa",
      "cell_type": "code",
      "metadata": {
        "jupyter": {
          "outputs_hidden": false,
          "source_hidden": false
        },
        "noteable": {
          "cell_type": "code",
          "output_collection_id": "320b391d-cacf-4f93-8f20-3bc8c73b4aba"
        },
        "ExecuteTime": {
          "end_time": "2023-09-23T17:30:03.089874+00:00",
          "start_time": "2023-09-23T17:30:01.993486+00:00"
        },
        "datalink": {
          "b90c1edf-1fd2-444d-88f4-7465c0997ba6": {
            "applied_filters": [],
            "dataframe_info": {
              "default_index_used": true,
              "orig_num_cols": 11,
              "orig_num_rows": 5,
              "orig_size_bytes": 480,
              "truncated_num_cols": 11,
              "truncated_num_rows": 5,
              "truncated_size_bytes": 480,
              "truncated_string_columns": []
            },
            "display_id": "b90c1edf-1fd2-444d-88f4-7465c0997ba6",
            "dx_settings": {
              "ALLOW_NOTEABLE_ATTRS": true,
              "COLUMN_SAMPLING_METHOD": "outer",
              "DB_LOCATION": ":memory:",
              "DEV_MODE": false,
              "DISPLAY_MAX_COLUMNS": 100,
              "DISPLAY_MAX_ROWS": 50000,
              "DISPLAY_MODE": "simple",
              "ENABLE_ASSIGNMENT": true,
              "ENABLE_DATALINK": true,
              "FLATTEN_COLUMN_VALUES": true,
              "FLATTEN_INDEX_VALUES": false,
              "GENERATE_DEX_METADATA": false,
              "HTML_TABLE_SCHEMA": false,
              "LOG_LEVEL": 30,
              "MAX_RENDER_SIZE_BYTES": 104857600,
              "MAX_STRING_LENGTH": 250,
              "NUM_PAST_SAMPLES_TRACKED": 3,
              "RANDOM_STATE": 12648430,
              "RESET_INDEX_VALUES": false,
              "ROW_SAMPLING_METHOD": "random",
              "SAMPLING_FACTOR": 0.1,
              "SAMPLING_METHOD": "random",
              "STRINGIFY_COLUMN_VALUES": true,
              "STRINGIFY_INDEX_VALUES": false
            },
            "sample_history": [],
            "sampling_time": "2023-09-23T17:30:02.929481",
            "user_variable_name": null,
            "variable_name": "unk_dataframe_1803e9b8a56f4bce84d9127506eaa748"
          }
        },
        "dx": {
          "fieldMetadata": {},
          "simpleTable": true,
          "updated": 1695490242001,
          "views": []
        }
      },
      "execution_count": null,
      "source": "#view last five rows\nweather.tail()",
      "outputs": []
    },
    {
      "id": "44bd5c52-4d09-4763-9df1-add7c097659e",
      "cell_type": "code",
      "metadata": {
        "jupyter": {
          "outputs_hidden": false,
          "source_hidden": false
        },
        "noteable": {
          "cell_type": "code",
          "output_collection_id": "4bbdf7e7-4727-4f56-9ba5-c9528e0142c2"
        },
        "ExecuteTime": {
          "end_time": "2023-09-23T17:30:10.862404+00:00",
          "start_time": "2023-09-23T17:30:10.623147+00:00"
        }
      },
      "execution_count": null,
      "source": "#look at the dataframe properties\nweather.info()",
      "outputs": []
    },
    {
      "id": "7583896e-acbf-4166-9c90-394eb8492f44",
      "cell_type": "markdown",
      "source": "### Identifying Missing Values and Data Cleaning",
      "metadata": {
        "noteable": {
          "cell_type": "markdown"
        }
      }
    },
    {
      "id": "2cebac5f-c28d-4a9b-9118-7cd1bb7b66cb",
      "cell_type": "code",
      "metadata": {
        "jupyter": {
          "outputs_hidden": false,
          "source_hidden": false
        },
        "noteable": {
          "cell_type": "code",
          "output_collection_id": "0b9471e2-d446-42c5-8e38-e561a78f43a7"
        },
        "ExecuteTime": {
          "end_time": "2023-09-23T17:36:26.510292+00:00",
          "start_time": "2023-09-23T17:36:25.270122+00:00"
        },
        "datalink": {
          "adb6f486-e7e4-4057-b91f-2a9a777c19f9": {
            "applied_filters": [],
            "dataframe_info": {
              "default_index_used": false,
              "orig_num_cols": 1,
              "orig_num_rows": 11,
              "orig_size_bytes": 176,
              "truncated_num_cols": 1,
              "truncated_num_rows": 11,
              "truncated_size_bytes": 176,
              "truncated_string_columns": []
            },
            "display_id": "adb6f486-e7e4-4057-b91f-2a9a777c19f9",
            "dx_settings": {
              "ALLOW_NOTEABLE_ATTRS": true,
              "COLUMN_SAMPLING_METHOD": "outer",
              "DB_LOCATION": ":memory:",
              "DEV_MODE": false,
              "DISPLAY_MAX_COLUMNS": 100,
              "DISPLAY_MAX_ROWS": 50000,
              "DISPLAY_MODE": "simple",
              "ENABLE_ASSIGNMENT": true,
              "ENABLE_DATALINK": true,
              "FLATTEN_COLUMN_VALUES": true,
              "FLATTEN_INDEX_VALUES": false,
              "GENERATE_DEX_METADATA": false,
              "HTML_TABLE_SCHEMA": false,
              "LOG_LEVEL": 30,
              "MAX_RENDER_SIZE_BYTES": 104857600,
              "MAX_STRING_LENGTH": 250,
              "NUM_PAST_SAMPLES_TRACKED": 3,
              "RANDOM_STATE": 12648430,
              "RESET_INDEX_VALUES": false,
              "ROW_SAMPLING_METHOD": "random",
              "SAMPLING_FACTOR": 0.1,
              "SAMPLING_METHOD": "random",
              "STRINGIFY_COLUMN_VALUES": true,
              "STRINGIFY_INDEX_VALUES": false
            },
            "sample_history": [],
            "sampling_time": "2023-09-23T17:30:35.292470",
            "user_variable_name": null,
            "variable_name": "unk_dataframe_ba0edd5b95ab4815b11a074331eb8480"
          },
          "cb29a4fa-e38f-46ee-8d12-27a49f76c86c": {
            "applied_filters": [],
            "dataframe_info": {
              "default_index_used": false,
              "orig_num_cols": 1,
              "orig_num_rows": 11,
              "orig_size_bytes": 176,
              "truncated_num_cols": 1,
              "truncated_num_rows": 11,
              "truncated_size_bytes": 176,
              "truncated_string_columns": []
            },
            "display_id": "cb29a4fa-e38f-46ee-8d12-27a49f76c86c",
            "dx_settings": {
              "ALLOW_NOTEABLE_ATTRS": true,
              "COLUMN_SAMPLING_METHOD": "outer",
              "DB_LOCATION": ":memory:",
              "DEV_MODE": false,
              "DISPLAY_MAX_COLUMNS": 100,
              "DISPLAY_MAX_ROWS": 50000,
              "DISPLAY_MODE": "simple",
              "ENABLE_ASSIGNMENT": true,
              "ENABLE_DATALINK": true,
              "FLATTEN_COLUMN_VALUES": true,
              "FLATTEN_INDEX_VALUES": false,
              "GENERATE_DEX_METADATA": false,
              "HTML_TABLE_SCHEMA": false,
              "LOG_LEVEL": 30,
              "MAX_RENDER_SIZE_BYTES": 104857600,
              "MAX_STRING_LENGTH": 250,
              "NUM_PAST_SAMPLES_TRACKED": 3,
              "RANDOM_STATE": 12648430,
              "RESET_INDEX_VALUES": false,
              "ROW_SAMPLING_METHOD": "random",
              "SAMPLING_FACTOR": 0.1,
              "SAMPLING_METHOD": "random",
              "STRINGIFY_COLUMN_VALUES": true,
              "STRINGIFY_INDEX_VALUES": false
            },
            "sample_history": [],
            "sampling_time": "2023-09-23T17:36:26.352482",
            "user_variable_name": null,
            "variable_name": "unk_dataframe_f3469f54c145424c89839c4604df5734"
          }
        },
        "dx": {
          "fieldMetadata": {},
          "simpleTable": true,
          "simpleTableExpanded": true,
          "updated": 1695490238236,
          "views": []
        }
      },
      "execution_count": null,
      "source": "#check for missing data/null values\nweather.isnull().sum()",
      "outputs": []
    },
    {
      "id": "bfb5cec0-0b99-4b1b-8c87-f8d17c63916c",
      "cell_type": "markdown",
      "source": "\"The convention of the weather and climate community has been to calculate the observed daily *mean* temperature by summing the maximum and minimum instantaneous temperatures during a 24-hour period and dividing by two\"",
      "metadata": {
        "noteable": {
          "cell_type": "markdown"
        }
      }
    },
    {
      "id": "690a2761-260d-4450-98b5-a704c87b7b3d",
      "cell_type": "markdown",
      "source": "### Converting Data Types",
      "metadata": {
        "noteable": {
          "cell_type": "markdown"
        }
      }
    },
    {
      "id": "2a9f89ce-b7cd-469b-8fa7-ef8895795cd4",
      "cell_type": "code",
      "metadata": {
        "noteable": {
          "cell_type": "python",
          "output_collection_id": "29371fc0-df5c-436b-be36-9fe7c8776e77"
        },
        "ExecuteTime": {
          "end_time": "2023-09-23T17:32:21.800703+00:00",
          "start_time": "2023-09-23T17:32:19.963070+00:00"
        }
      },
      "execution_count": null,
      "source": "# Converting the 'date' column to datetime\nweather['date'] = pd.to_datetime(weather['date'])",
      "outputs": []
    },
    {
      "id": "1ae15b7b-0832-4cd6-b427-a9d3adebc8de",
      "cell_type": "code",
      "metadata": {
        "noteable": {
          "cell_type": "python",
          "output_collection_id": "82bcafde-09ce-4b5a-8559-b9610337dd00"
        },
        "ExecuteTime": {
          "end_time": "2023-09-23T17:38:33.290765+00:00",
          "start_time": "2023-09-23T17:38:21.350705+00:00"
        },
        "datalink": {
          "a9c3aa64-993b-483c-aa6a-027eae6adc09": {
            "applied_filters": [],
            "dataframe_info": {
              "default_index_used": true,
              "orig_num_cols": 11,
              "orig_num_rows": 314382,
              "orig_size_bytes": 30180672,
              "truncated_num_cols": 11,
              "truncated_num_rows": 50000,
              "truncated_size_bytes": 4800000,
              "truncated_string_columns": []
            },
            "display_id": "a9c3aa64-993b-483c-aa6a-027eae6adc09",
            "dx_settings": {
              "ALLOW_NOTEABLE_ATTRS": true,
              "COLUMN_SAMPLING_METHOD": "outer",
              "DB_LOCATION": ":memory:",
              "DEV_MODE": false,
              "DISPLAY_MAX_COLUMNS": 100,
              "DISPLAY_MAX_ROWS": 50000,
              "DISPLAY_MODE": "simple",
              "ENABLE_ASSIGNMENT": true,
              "ENABLE_DATALINK": true,
              "FLATTEN_COLUMN_VALUES": true,
              "FLATTEN_INDEX_VALUES": false,
              "GENERATE_DEX_METADATA": false,
              "HTML_TABLE_SCHEMA": false,
              "LOG_LEVEL": 30,
              "MAX_RENDER_SIZE_BYTES": 104857600,
              "MAX_STRING_LENGTH": 250,
              "NUM_PAST_SAMPLES_TRACKED": 3,
              "RANDOM_STATE": 12648430,
              "RESET_INDEX_VALUES": false,
              "ROW_SAMPLING_METHOD": "random",
              "SAMPLING_FACTOR": 0.1,
              "SAMPLING_METHOD": "random",
              "STRINGIFY_COLUMN_VALUES": true,
              "STRINGIFY_INDEX_VALUES": false
            },
            "sample_history": [],
            "sampling_time": "2023-09-23T17:38:32.225077",
            "user_variable_name": "weather",
            "variable_name": "weather"
          }
        },
        "dx": {
          "fieldMetadata": {},
          "simpleTable": true,
          "updated": 1695490744057,
          "views": []
        }
      },
      "execution_count": null,
      "source": "# Removing rows with missing values in 'tavg', 'tmin', and 'tmax' if more than one value is missing in the same row\nweather.dropna(subset=['tavg', 'tmin', 'tmax'], thresh=2, inplace=True)\n\n# Filling in missing 'tavg' values using the average of 'tmin' and 'tmax' in the same row\nweather['tavg'].fillna((weather['tmin'] + weather['tmax']) / 2, inplace=True)\n\n# Filling in missing 'tmin' and 'tmax' values accordingly\nweather['tmin'].fillna(2 * weather['tavg'] - weather['tmax'], inplace=True)\nweather['tmax'].fillna(2 * weather['tavg'] - weather['tmin'], inplace=True)\n\n# Display the final dataset\nweather",
      "outputs": []
    },
    {
      "id": "4e49931b-d6b0-4ecf-bf97-c87640888094",
      "cell_type": "markdown",
      "source": "### Check For Duplicated Rows",
      "metadata": {
        "noteable": {
          "cell_type": "markdown"
        }
      }
    },
    {
      "id": "61362bb8-900a-4889-b410-a555288649ac",
      "cell_type": "code",
      "metadata": {
        "jupyter": {
          "outputs_hidden": false,
          "source_hidden": false
        },
        "noteable": {
          "cell_type": "code",
          "output_collection_id": "9ecb1135-2014-4e44-afcf-4ed5ec7e90a2"
        },
        "ExecuteTime": {
          "end_time": "2023-09-23T17:42:55.966796+00:00",
          "start_time": "2023-09-23T17:42:55.753028+00:00"
        }
      },
      "execution_count": null,
      "source": "weather.duplicated().sum()",
      "outputs": []
    },
    {
      "id": "dcc3a21e-272f-44c2-a019-739da8ccba98",
      "cell_type": "markdown",
      "source": "# Exploratory Data Analysis (EDA)",
      "metadata": {
        "noteable": {
          "cell_type": "markdown"
        }
      }
    },
    {
      "id": "a367dd4e-9008-44c3-a668-00748547506d",
      "cell_type": "markdown",
      "source": "### Descriptive Statistics",
      "metadata": {
        "noteable": {
          "cell_type": "markdown"
        }
      }
    },
    {
      "id": "c7cf867e-c3b1-4f77-aa9a-ff1e7d13451f",
      "cell_type": "code",
      "metadata": {
        "noteable": {
          "cell_type": "python",
          "output_collection_id": "40cce1ea-4775-47b3-8523-0ba45dd735c4"
        },
        "ExecuteTime": {
          "end_time": "2023-09-23T17:48:07.774375+00:00",
          "start_time": "2023-09-23T17:48:04.677991+00:00"
        },
        "datalink": {
          "89a15f3b-bad8-4775-b34e-936f8de08e71": {
            "applied_filters": [],
            "dataframe_info": {
              "default_index_used": false,
              "orig_num_cols": 8,
              "orig_num_rows": 8,
              "orig_size_bytes": 576,
              "truncated_num_cols": 8,
              "truncated_num_rows": 8,
              "truncated_size_bytes": 576,
              "truncated_string_columns": []
            },
            "display_id": "89a15f3b-bad8-4775-b34e-936f8de08e71",
            "dx_settings": {
              "ALLOW_NOTEABLE_ATTRS": true,
              "COLUMN_SAMPLING_METHOD": "outer",
              "DB_LOCATION": ":memory:",
              "DEV_MODE": false,
              "DISPLAY_MAX_COLUMNS": 100,
              "DISPLAY_MAX_ROWS": 50000,
              "DISPLAY_MODE": "simple",
              "ENABLE_ASSIGNMENT": true,
              "ENABLE_DATALINK": true,
              "FLATTEN_COLUMN_VALUES": true,
              "FLATTEN_INDEX_VALUES": false,
              "GENERATE_DEX_METADATA": false,
              "HTML_TABLE_SCHEMA": false,
              "LOG_LEVEL": 30,
              "MAX_RENDER_SIZE_BYTES": 104857600,
              "MAX_STRING_LENGTH": 250,
              "NUM_PAST_SAMPLES_TRACKED": 3,
              "RANDOM_STATE": 12648430,
              "RESET_INDEX_VALUES": false,
              "ROW_SAMPLING_METHOD": "random",
              "SAMPLING_FACTOR": 0.1,
              "SAMPLING_METHOD": "random",
              "STRINGIFY_COLUMN_VALUES": true,
              "STRINGIFY_INDEX_VALUES": false
            },
            "sample_history": [],
            "sampling_time": "2023-09-23T17:48:07.615370",
            "user_variable_name": null,
            "variable_name": "unk_dataframe_222e61f926c64c14beb77838df24f50e"
          }
        },
        "dx": {
          "fieldMetadata": {},
          "simpleTable": true,
          "updated": 1695491305832,
          "views": []
        }
      },
      "execution_count": null,
      "source": "weather.describe().round()",
      "outputs": []
    },
    {
      "id": "443d3ba6-dce7-42b8-ab75-76b98ca04d99",
      "cell_type": "code",
      "metadata": {
        "noteable": {
          "cell_type": "python",
          "output_collection_id": "637c1a72-82f1-4881-8b3b-c541f4bb412d"
        },
        "ExecuteTime": {
          "end_time": "2023-09-23T17:49:00.347523+00:00",
          "start_time": "2023-09-23T17:48:59.633832+00:00"
        }
      },
      "execution_count": null,
      "source": "#The relationship between columns\ncor = weather.corr()\n\n#Visualization of the relationship between columns\nsns.heatmap(cor, annot=True);",
      "outputs": []
    },
    {
      "id": "a5a69df9-1620-469e-ad9e-8d7ba430c6e9",
      "cell_type": "markdown",
      "source": "The statistics heatmap shows that the strongest relationships are between the recorded temperature columns: min daily temperature, max daily temperature and the AVG daily temperature. ",
      "metadata": {
        "noteable": {
          "cell_type": "markdown"
        }
      }
    },
    {
      "id": "4e4e3b13-2101-45c7-8f16-0e0ec559f21b",
      "cell_type": "markdown",
      "source": "### Distribution Visualization",
      "metadata": {
        "noteable": {
          "cell_type": "markdown"
        }
      }
    },
    {
      "id": "78b7e975-5ac1-4320-b88e-2395473f8854",
      "cell_type": "code",
      "metadata": {
        "noteable": {
          "cell_type": "python",
          "output_collection_id": "acc83931-0906-43e5-b36f-3bb6cc979a97"
        },
        "ExecuteTime": {
          "end_time": "2023-09-23T17:49:53.051424+00:00",
          "start_time": "2023-09-23T17:49:52.691774+00:00"
        }
      },
      "execution_count": null,
      "source": "#Visulization that illustrates the distribution of the temperatre columns\nplt.figure(figsize=(10, 6))\nplt.boxplot([weather['tmax'], weather['tmin'], weather['tavg']], labels=['tmax', 'tmin', 'tavg'])\nplt.title('Boxplot of Temperature Data')\nplt.xlabel('Temperature Type')\nplt.ylabel('Temperature (°C)')\nplt.show()",
      "outputs": []
    },
    {
      "id": "b4b7c75c-e2d7-461b-8a23-f57fb9234d5b",
      "cell_type": "markdown",
      "source": "This distribution of temperature visualization shows that max daily temperature (tmax) suffers that most from outliers. Therefore, it is worth looking into. ",
      "metadata": {
        "noteable": {
          "cell_type": "markdown"
        }
      }
    },
    {
      "id": "dbdac1a2-88fc-4fb7-8eb8-41e4d4b97897",
      "cell_type": "markdown",
      "source": "### Potential Outliers",
      "metadata": {
        "noteable": {
          "cell_type": "markdown"
        }
      }
    },
    {
      "id": "9c9a7a85-1d1b-4eb9-bd1b-e5931ec3ff1d",
      "cell_type": "code",
      "metadata": {
        "noteable": {
          "cell_type": "python",
          "output_collection_id": "9c1baa43-1048-4c0d-bfaf-3e3b589eda6b"
        },
        "ExecuteTime": {
          "end_time": "2023-09-23T18:05:41.361847+00:00",
          "start_time": "2023-09-23T18:05:39.150531+00:00"
        },
        "datalink": {
          "b6c5ad7a-7b5e-483b-a260-69ff2c3e39dc": {
            "applied_filters": [],
            "dataframe_info": {
              "default_index_used": true,
              "orig_num_cols": 1,
              "orig_num_rows": 5949,
              "orig_size_bytes": 95184,
              "truncated_num_cols": 1,
              "truncated_num_rows": 5949,
              "truncated_size_bytes": 95184,
              "truncated_string_columns": []
            },
            "display_id": "b6c5ad7a-7b5e-483b-a260-69ff2c3e39dc",
            "dx_settings": {
              "ALLOW_NOTEABLE_ATTRS": true,
              "COLUMN_SAMPLING_METHOD": "outer",
              "DB_LOCATION": ":memory:",
              "DEV_MODE": false,
              "DISPLAY_MAX_COLUMNS": 100,
              "DISPLAY_MAX_ROWS": 50000,
              "DISPLAY_MODE": "simple",
              "ENABLE_ASSIGNMENT": true,
              "ENABLE_DATALINK": true,
              "FLATTEN_COLUMN_VALUES": true,
              "FLATTEN_INDEX_VALUES": false,
              "GENERATE_DEX_METADATA": false,
              "HTML_TABLE_SCHEMA": false,
              "LOG_LEVEL": 30,
              "MAX_RENDER_SIZE_BYTES": 104857600,
              "MAX_STRING_LENGTH": 250,
              "NUM_PAST_SAMPLES_TRACKED": 3,
              "RANDOM_STATE": 12648430,
              "RESET_INDEX_VALUES": false,
              "ROW_SAMPLING_METHOD": "random",
              "SAMPLING_FACTOR": 0.1,
              "SAMPLING_METHOD": "random",
              "STRINGIFY_COLUMN_VALUES": true,
              "STRINGIFY_INDEX_VALUES": false
            },
            "sample_history": [],
            "sampling_time": "2023-09-23T18:05:41.199710",
            "user_variable_name": "outliers",
            "variable_name": "outliers"
          }
        },
        "dx": {
          "fieldMetadata": {},
          "simpleTable": true,
          "updated": 1695492344054,
          "views": []
        }
      },
      "execution_count": null,
      "source": "#Display temperature outliers\n\ndef find_outliers_IQR(weather):\n    q1=weather.quantile(0.25)\n    q3=weather.quantile(0.75)\n    IQR=q3-q1\n    outliers = weather[((weather<(q1-1.5*IQR)) | (weather>(q3+1.5*IQR)))]\n    return outliers\n\noutliers = find_outliers_IQR(weather[\"tavg\"])\n\nprint(\"number of outliers: \"+ str(len(outliers)))\n\nprint(\"max outlier value: \"+ str(outliers.max()))\n\nprint(\"min outlier value: \"+ str(outliers.min()))\n\noutliers",
      "outputs": []
    },
    {
      "id": "532b0c0e-2c6c-40c4-bf22-eceba4070683",
      "cell_type": "code",
      "metadata": {
        "jupyter": {
          "outputs_hidden": false,
          "source_hidden": false
        },
        "noteable": {
          "cell_type": "code",
          "output_collection_id": "84edea3d-1d04-402e-891d-cf2d1ea89ca4"
        },
        "ExecuteTime": {
          "end_time": "2023-09-23T18:06:17.760575+00:00",
          "start_time": "2023-09-23T18:06:15.548573+00:00"
        },
        "datalink": {
          "2f56d07d-92b6-4f50-b131-302e1a2d9002": {
            "applied_filters": [],
            "dataframe_info": {
              "default_index_used": true,
              "orig_num_cols": 1,
              "orig_num_rows": 3507,
              "orig_size_bytes": 56112,
              "truncated_num_cols": 1,
              "truncated_num_rows": 3507,
              "truncated_size_bytes": 56112,
              "truncated_string_columns": []
            },
            "display_id": "2f56d07d-92b6-4f50-b131-302e1a2d9002",
            "dx_settings": {
              "ALLOW_NOTEABLE_ATTRS": true,
              "COLUMN_SAMPLING_METHOD": "outer",
              "DB_LOCATION": ":memory:",
              "DEV_MODE": false,
              "DISPLAY_MAX_COLUMNS": 100,
              "DISPLAY_MAX_ROWS": 50000,
              "DISPLAY_MODE": "simple",
              "ENABLE_ASSIGNMENT": true,
              "ENABLE_DATALINK": true,
              "FLATTEN_COLUMN_VALUES": true,
              "FLATTEN_INDEX_VALUES": false,
              "GENERATE_DEX_METADATA": false,
              "HTML_TABLE_SCHEMA": false,
              "LOG_LEVEL": 30,
              "MAX_RENDER_SIZE_BYTES": 104857600,
              "MAX_STRING_LENGTH": 250,
              "NUM_PAST_SAMPLES_TRACKED": 3,
              "RANDOM_STATE": 12648430,
              "RESET_INDEX_VALUES": false,
              "ROW_SAMPLING_METHOD": "random",
              "SAMPLING_FACTOR": 0.1,
              "SAMPLING_METHOD": "random",
              "STRINGIFY_COLUMN_VALUES": true,
              "STRINGIFY_INDEX_VALUES": false
            },
            "sample_history": [],
            "sampling_time": "2023-09-23T18:06:17.599943",
            "user_variable_name": "outliers",
            "variable_name": "outliers"
          }
        },
        "dx": {
          "fieldMetadata": {},
          "simpleTable": true,
          "updated": 1695492377656,
          "views": []
        }
      },
      "execution_count": null,
      "source": "outliers = find_outliers_IQR(weather[\"tmin\"])\n\nprint(\"number of outliers: \"+ str(len(outliers)))\n\nprint(\"max outlier value: \"+ str(outliers.max()))\n\nprint(\"min outlier value: \"+ str(outliers.min()))\n\noutliers",
      "outputs": []
    },
    {
      "id": "102d80bd-0f74-4117-a3c3-0512189e2967",
      "cell_type": "code",
      "metadata": {
        "jupyter": {
          "outputs_hidden": false,
          "source_hidden": false
        },
        "noteable": {
          "cell_type": "code",
          "output_collection_id": "9425d4aa-cddc-48f7-9887-ad7f881f6080"
        },
        "ExecuteTime": {
          "end_time": "2023-09-23T18:06:27.812754+00:00",
          "start_time": "2023-09-23T18:06:25.552578+00:00"
        },
        "datalink": {
          "c7e5b999-4ba4-4d56-8c83-40596fa9ff39": {
            "applied_filters": [],
            "dataframe_info": {
              "default_index_used": true,
              "orig_num_cols": 1,
              "orig_num_rows": 11043,
              "orig_size_bytes": 176688,
              "truncated_num_cols": 1,
              "truncated_num_rows": 11043,
              "truncated_size_bytes": 176688,
              "truncated_string_columns": []
            },
            "display_id": "c7e5b999-4ba4-4d56-8c83-40596fa9ff39",
            "dx_settings": {
              "ALLOW_NOTEABLE_ATTRS": true,
              "COLUMN_SAMPLING_METHOD": "outer",
              "DB_LOCATION": ":memory:",
              "DEV_MODE": false,
              "DISPLAY_MAX_COLUMNS": 100,
              "DISPLAY_MAX_ROWS": 50000,
              "DISPLAY_MODE": "simple",
              "ENABLE_ASSIGNMENT": true,
              "ENABLE_DATALINK": true,
              "FLATTEN_COLUMN_VALUES": true,
              "FLATTEN_INDEX_VALUES": false,
              "GENERATE_DEX_METADATA": false,
              "HTML_TABLE_SCHEMA": false,
              "LOG_LEVEL": 30,
              "MAX_RENDER_SIZE_BYTES": 104857600,
              "MAX_STRING_LENGTH": 250,
              "NUM_PAST_SAMPLES_TRACKED": 3,
              "RANDOM_STATE": 12648430,
              "RESET_INDEX_VALUES": false,
              "ROW_SAMPLING_METHOD": "random",
              "SAMPLING_FACTOR": 0.1,
              "SAMPLING_METHOD": "random",
              "STRINGIFY_COLUMN_VALUES": true,
              "STRINGIFY_INDEX_VALUES": false
            },
            "sample_history": [],
            "sampling_time": "2023-09-23T18:06:27.646320",
            "user_variable_name": "outliers",
            "variable_name": "outliers"
          }
        },
        "dx": {
          "fieldMetadata": {},
          "simpleTable": true,
          "updated": 1695492405845,
          "views": []
        }
      },
      "execution_count": null,
      "source": "outliers = find_outliers_IQR(weather[\"tmax\"])\n\nprint(\"number of outliers: \"+ str(len(outliers)))\n\nprint(\"max outlier value: \"+ str(outliers.max()))\n\nprint(\"min outlier value: \"+ str(outliers.min()))\n\noutliers",
      "outputs": []
    },
    {
      "id": "3711f283-bad6-46cd-8e63-412c816cbb36",
      "cell_type": "markdown",
      "source": "# Data Visualization",
      "metadata": {
        "noteable": {
          "cell_type": "markdown"
        }
      }
    },
    {
      "id": "c2d1af0d-fc54-462b-8917-a5f9f21f9fb7",
      "cell_type": "markdown",
      "source": "### Forecasting - Prophet ",
      "metadata": {
        "noteable": {
          "cell_type": "markdown"
        }
      }
    },
    {
      "id": "ac89299a-b516-4a60-8a17-169e89f56d39",
      "cell_type": "code",
      "metadata": {
        "noteable": {
          "cell_type": "python",
          "output_collection_id": "aa9302ca-1e35-484a-9d5e-32b7681c360e"
        },
        "ExecuteTime": {
          "end_time": "2023-09-23T18:12:23.267313+00:00",
          "start_time": "2023-09-23T18:11:52.267717+00:00"
        }
      },
      "execution_count": null,
      "source": "from prophet import Prophet\n\n# Renaming the columns to match Prophet's requirements\ntemperature_data = weather.rename(columns={'date': 'ds', 'tavg': 'y'})\n\n# Initializing the Prophet model\nmodel = Prophet()\n\n# Fitting the model the dataframe\nmodel.fit(temperature_data)\n\n# Creating a dataframe with future dates for prediction\nfuture = model.make_future_dataframe(periods=365)  # Predicting one year into the future\n\n# Temperature predictions for future dates\nforecast = model.predict(future)\n\n# Visualizing the forecast\nfig = model.plot(forecast)",
      "outputs": []
    },
    {
      "id": "fe383ee4-4ea1-40bc-ad41-67da151e3463",
      "cell_type": "markdown",
      "source": "Prophet shows no critical changes in AVG daily temperature in the following year (365 days).",
      "metadata": {
        "noteable": {
          "cell_type": "markdown"
        }
      }
    }
  ]
}